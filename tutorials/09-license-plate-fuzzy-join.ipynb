{
 "cells": [
  {
   "attachments": {},
   "cell_type": "markdown",
   "id": "899e81c0",
   "metadata": {},
   "source": [
    "## License Plate Detection using Fuzzy Join "
   ]
  },
  {
   "attachments": {},
   "cell_type": "markdown",
   "id": "04b5bc12",
   "metadata": {},
   "source": [
    "<table align=\"left\">\n",
    "  <td>\n",
    "    <a target=\"_blank\" href=\"https://colab.research.google.com/github/georgia-tech-db/eva/blob/master/tutorials/09-license-plate-fuzzy-join.ipynb\"><img src=\"https://www.tensorflow.org/images/colab_logo_32px.png\" /> Run on Google Colab</a>\n",
    "  </td>\n",
    "  <td>\n",
    "    <a target=\"_blank\" href=\"https://github.com/georgia-tech-db/eva/blob/master/tutorials/09-license-plate-fuzzy-join.ipynb\"><img src=\"https://www.tensorflow.org/images/GitHub-Mark-32px.png\" /> View source on GitHub</a>\n",
    "  </td>\n",
    "  <td>\n",
    "    <a target=\"_blank\" href=\"https://github.com/georgia-tech-db/eva/raw/master/tutorials/09-license-plate-fuzzy-join.ipynb\"><img src=\"https://www.tensorflow.org/images/download_logo_32px.png\" /> Download notebook</a>\n",
    "  </td>\n",
    "</table><br><br>"
   ]
  },
  {
   "attachments": {},
   "cell_type": "markdown",
   "id": "c870b8d3",
   "metadata": {},
   "source": [
    "### Connect to EvaDB"
   ]
  },
  {
   "cell_type": "code",
   "execution_count": 2,
   "id": "08c79d84",
   "metadata": {},
   "outputs": [
    {
     "name": "stdout",
     "output_type": "stream",
     "text": [
      "Requirement already satisfied: evadb in /home/jarulraj3/eva/test_evadb/lib/python3.10/site-packages (0.2.7+dev)\n",
      "Requirement already satisfied: numpy>=1.19.5 in /home/jarulraj3/eva/test_evadb/lib/python3.10/site-packages (from evadb) (1.24.3)\n",
      "Requirement already satisfied: pandas>=1.1.5 in /home/jarulraj3/eva/test_evadb/lib/python3.10/site-packages (from evadb) (2.0.1)\n",
      "Requirement already satisfied: opencv-contrib-python-headless>=4.6.0.66 in /home/jarulraj3/eva/test_evadb/lib/python3.10/site-packages (from evadb) (4.7.0.72)\n",
      "Requirement already satisfied: Pillow>=8.4.0 in /home/jarulraj3/eva/test_evadb/lib/python3.10/site-packages (from evadb) (9.5.0)\n",
      "Requirement already satisfied: sqlalchemy<2.0.0,>=1.4.0 in /home/jarulraj3/eva/test_evadb/lib/python3.10/site-packages (from evadb) (1.4.48)\n",
      "Requirement already satisfied: sqlalchemy-utils>=0.36.6 in /home/jarulraj3/eva/test_evadb/lib/python3.10/site-packages (from evadb) (0.41.1)\n",
      "Requirement already satisfied: lark>=1.0.0 in /home/jarulraj3/eva/test_evadb/lib/python3.10/site-packages (from evadb) (1.1.5)\n",
      "Requirement already satisfied: pyyaml>=5.1 in /home/jarulraj3/eva/test_evadb/lib/python3.10/site-packages (from evadb) (6.0)\n",
      "Requirement already satisfied: importlib-metadata<5.0 in /home/jarulraj3/eva/test_evadb/lib/python3.10/site-packages (from evadb) (4.13.0)\n",
      "Requirement already satisfied: ray>=1.13.0 in /home/jarulraj3/eva/test_evadb/lib/python3.10/site-packages (from evadb) (2.4.0)\n",
      "Requirement already satisfied: aenum>=2.2.0 in /home/jarulraj3/eva/test_evadb/lib/python3.10/site-packages (from evadb) (3.1.12)\n",
      "Requirement already satisfied: diskcache>=5.4.0 in /home/jarulraj3/eva/test_evadb/lib/python3.10/site-packages (from evadb) (5.6.1)\n",
      "Requirement already satisfied: eva-decord>=0.6.1 in /home/jarulraj3/eva/test_evadb/lib/python3.10/site-packages (from evadb) (0.6.1)\n",
      "Requirement already satisfied: boto3 in /home/jarulraj3/eva/test_evadb/lib/python3.10/site-packages (from evadb) (1.26.133)\n",
      "Requirement already satisfied: nest-asyncio in /home/jarulraj3/eva/test_evadb/lib/python3.10/site-packages (from evadb) (1.5.6)\n",
      "Requirement already satisfied: langchain in /home/jarulraj3/eva/test_evadb/lib/python3.10/site-packages (from evadb) (0.0.179)\n",
      "Requirement already satisfied: pymupdf in /home/jarulraj3/eva/test_evadb/lib/python3.10/site-packages (from evadb) (1.22.3)\n",
      "Requirement already satisfied: pdfminer.six in /home/jarulraj3/eva/test_evadb/lib/python3.10/site-packages (from evadb) (20221105)\n",
      "Requirement already satisfied: sentence-transformers in /home/jarulraj3/eva/test_evadb/lib/python3.10/site-packages (from evadb) (2.2.2)\n",
      "Requirement already satisfied: torch>=1.10.0 in /home/jarulraj3/eva/test_evadb/lib/python3.10/site-packages (from evadb) (2.0.1)\n",
      "Requirement already satisfied: torchvision>=0.11.1 in /home/jarulraj3/eva/test_evadb/lib/python3.10/site-packages (from evadb) (0.15.2)\n",
      "Requirement already satisfied: faiss-cpu in /home/jarulraj3/eva/test_evadb/lib/python3.10/site-packages (from evadb) (1.7.4)\n",
      "Requirement already satisfied: facenet-pytorch>=2.5.2 in /home/jarulraj3/eva/test_evadb/lib/python3.10/site-packages (from evadb) (2.5.3)\n",
      "Requirement already satisfied: ipython<8.13.0 in /home/jarulraj3/eva/test_evadb/lib/python3.10/site-packages (from evadb) (8.12.2)\n",
      "Requirement already satisfied: thefuzz in /home/jarulraj3/eva/test_evadb/lib/python3.10/site-packages (from evadb) (0.19.0)\n",
      "Requirement already satisfied: ultralytics>=8.0.93 in /home/jarulraj3/eva/test_evadb/lib/python3.10/site-packages (from evadb) (8.0.93)\n",
      "Requirement already satisfied: transformers>=4.27.4 in /home/jarulraj3/eva/test_evadb/lib/python3.10/site-packages (from evadb) (4.29.1)\n",
      "Requirement already satisfied: openai>=0.27.4 in /home/jarulraj3/eva/test_evadb/lib/python3.10/site-packages (from evadb) (0.27.6)\n",
      "Requirement already satisfied: timm>=0.6.13 in /home/jarulraj3/eva/test_evadb/lib/python3.10/site-packages (from evadb) (0.9.1)\n",
      "Requirement already satisfied: norfair>=2.2.0 in /home/jarulraj3/eva/test_evadb/lib/python3.10/site-packages (from evadb) (2.2.0)\n",
      "Requirement already satisfied: requests in /home/jarulraj3/eva/test_evadb/lib/python3.10/site-packages (from facenet-pytorch>=2.5.2->evadb) (2.30.0)\n",
      "Requirement already satisfied: zipp>=0.5 in /home/jarulraj3/eva/test_evadb/lib/python3.10/site-packages (from importlib-metadata<5.0->evadb) (3.15.0)\n",
      "Requirement already satisfied: backcall in /home/jarulraj3/eva/test_evadb/lib/python3.10/site-packages (from ipython<8.13.0->evadb) (0.2.0)\n",
      "Requirement already satisfied: decorator in /home/jarulraj3/eva/test_evadb/lib/python3.10/site-packages (from ipython<8.13.0->evadb) (4.4.2)\n",
      "Requirement already satisfied: jedi>=0.16 in /home/jarulraj3/eva/test_evadb/lib/python3.10/site-packages (from ipython<8.13.0->evadb) (0.18.2)\n",
      "Requirement already satisfied: matplotlib-inline in /home/jarulraj3/eva/test_evadb/lib/python3.10/site-packages (from ipython<8.13.0->evadb) (0.1.6)\n",
      "Requirement already satisfied: pickleshare in /home/jarulraj3/eva/test_evadb/lib/python3.10/site-packages (from ipython<8.13.0->evadb) (0.7.5)\n",
      "Requirement already satisfied: prompt-toolkit!=3.0.37,<3.1.0,>=3.0.30 in /home/jarulraj3/eva/test_evadb/lib/python3.10/site-packages (from ipython<8.13.0->evadb) (3.0.38)\n",
      "Requirement already satisfied: pygments>=2.4.0 in /home/jarulraj3/eva/test_evadb/lib/python3.10/site-packages (from ipython<8.13.0->evadb) (2.15.1)\n",
      "Requirement already satisfied: stack-data in /home/jarulraj3/eva/test_evadb/lib/python3.10/site-packages (from ipython<8.13.0->evadb) (0.6.2)\n",
      "Requirement already satisfied: traitlets>=5 in /home/jarulraj3/eva/test_evadb/lib/python3.10/site-packages (from ipython<8.13.0->evadb) (5.9.0)\n",
      "Requirement already satisfied: pexpect>4.3 in /home/jarulraj3/eva/test_evadb/lib/python3.10/site-packages (from ipython<8.13.0->evadb) (4.8.0)\n",
      "Requirement already satisfied: filterpy<2.0.0,>=1.4.5 in /home/jarulraj3/eva/test_evadb/lib/python3.10/site-packages (from norfair>=2.2.0->evadb) (1.4.5)\n",
      "Requirement already satisfied: rich<13.0.0,>=9.10.0 in /home/jarulraj3/eva/test_evadb/lib/python3.10/site-packages (from norfair>=2.2.0->evadb) (12.6.0)\n",
      "Requirement already satisfied: scipy>=1.5.4 in /home/jarulraj3/eva/test_evadb/lib/python3.10/site-packages (from norfair>=2.2.0->evadb) (1.10.1)\n",
      "Requirement already satisfied: tqdm in /home/jarulraj3/eva/test_evadb/lib/python3.10/site-packages (from openai>=0.27.4->evadb) (4.65.0)\n",
      "Requirement already satisfied: aiohttp in /home/jarulraj3/eva/test_evadb/lib/python3.10/site-packages (from openai>=0.27.4->evadb) (3.8.4)\n",
      "Requirement already satisfied: python-dateutil>=2.8.2 in /home/jarulraj3/eva/test_evadb/lib/python3.10/site-packages (from pandas>=1.1.5->evadb) (2.8.2)\n",
      "Requirement already satisfied: pytz>=2020.1 in /home/jarulraj3/eva/test_evadb/lib/python3.10/site-packages (from pandas>=1.1.5->evadb) (2023.3)\n",
      "Requirement already satisfied: tzdata>=2022.1 in /home/jarulraj3/eva/test_evadb/lib/python3.10/site-packages (from pandas>=1.1.5->evadb) (2023.3)\n",
      "Requirement already satisfied: attrs in /home/jarulraj3/eva/test_evadb/lib/python3.10/site-packages (from ray>=1.13.0->evadb) (21.4.0)\n",
      "Requirement already satisfied: click>=7.0 in /home/jarulraj3/eva/test_evadb/lib/python3.10/site-packages (from ray>=1.13.0->evadb) (8.1.3)\n",
      "Requirement already satisfied: filelock in /home/jarulraj3/eva/test_evadb/lib/python3.10/site-packages (from ray>=1.13.0->evadb) (3.12.0)\n",
      "Requirement already satisfied: jsonschema in /home/jarulraj3/eva/test_evadb/lib/python3.10/site-packages (from ray>=1.13.0->evadb) (4.17.3)\n",
      "Requirement already satisfied: msgpack<2.0.0,>=1.0.0 in /home/jarulraj3/eva/test_evadb/lib/python3.10/site-packages (from ray>=1.13.0->evadb) (1.0.5)\n",
      "Requirement already satisfied: protobuf!=3.19.5,>=3.15.3 in /home/jarulraj3/eva/test_evadb/lib/python3.10/site-packages (from ray>=1.13.0->evadb) (4.23.0)\n",
      "Requirement already satisfied: aiosignal in /home/jarulraj3/eva/test_evadb/lib/python3.10/site-packages (from ray>=1.13.0->evadb) (1.3.1)\n",
      "Requirement already satisfied: frozenlist in /home/jarulraj3/eva/test_evadb/lib/python3.10/site-packages (from ray>=1.13.0->evadb) (1.3.3)\n",
      "Requirement already satisfied: virtualenv<20.21.1,>=20.0.24 in /home/jarulraj3/eva/test_evadb/lib/python3.10/site-packages (from ray>=1.13.0->evadb) (20.21.0)\n",
      "Requirement already satisfied: packaging in /home/jarulraj3/eva/test_evadb/lib/python3.10/site-packages (from ray>=1.13.0->evadb) (23.1)\n",
      "Requirement already satisfied: grpcio<=1.51.3,>=1.42.0 in /home/jarulraj3/eva/test_evadb/lib/python3.10/site-packages (from ray>=1.13.0->evadb) (1.51.3)\n",
      "Requirement already satisfied: greenlet!=0.4.17 in /home/jarulraj3/eva/test_evadb/lib/python3.10/site-packages (from sqlalchemy<2.0.0,>=1.4.0->evadb) (2.0.2)\n",
      "Requirement already satisfied: huggingface-hub in /home/jarulraj3/eva/test_evadb/lib/python3.10/site-packages (from timm>=0.6.13->evadb) (0.14.1)\n",
      "Requirement already satisfied: safetensors in /home/jarulraj3/eva/test_evadb/lib/python3.10/site-packages (from timm>=0.6.13->evadb) (0.3.1)\n",
      "Requirement already satisfied: typing-extensions in /home/jarulraj3/eva/test_evadb/lib/python3.10/site-packages (from torch>=1.10.0->evadb) (4.5.0)\n",
      "Requirement already satisfied: sympy in /home/jarulraj3/eva/test_evadb/lib/python3.10/site-packages (from torch>=1.10.0->evadb) (1.12)\n",
      "Requirement already satisfied: networkx in /home/jarulraj3/eva/test_evadb/lib/python3.10/site-packages (from torch>=1.10.0->evadb) (3.1)\n",
      "Requirement already satisfied: jinja2 in /home/jarulraj3/eva/test_evadb/lib/python3.10/site-packages (from torch>=1.10.0->evadb) (3.0.3)\n",
      "Requirement already satisfied: nvidia-cuda-nvrtc-cu11==11.7.99 in /home/jarulraj3/eva/test_evadb/lib/python3.10/site-packages (from torch>=1.10.0->evadb) (11.7.99)\n",
      "Requirement already satisfied: nvidia-cuda-runtime-cu11==11.7.99 in /home/jarulraj3/eva/test_evadb/lib/python3.10/site-packages (from torch>=1.10.0->evadb) (11.7.99)\n",
      "Requirement already satisfied: nvidia-cuda-cupti-cu11==11.7.101 in /home/jarulraj3/eva/test_evadb/lib/python3.10/site-packages (from torch>=1.10.0->evadb) (11.7.101)\n",
      "Requirement already satisfied: nvidia-cudnn-cu11==8.5.0.96 in /home/jarulraj3/eva/test_evadb/lib/python3.10/site-packages (from torch>=1.10.0->evadb) (8.5.0.96)\n",
      "Requirement already satisfied: nvidia-cublas-cu11==11.10.3.66 in /home/jarulraj3/eva/test_evadb/lib/python3.10/site-packages (from torch>=1.10.0->evadb) (11.10.3.66)\n",
      "Requirement already satisfied: nvidia-cufft-cu11==10.9.0.58 in /home/jarulraj3/eva/test_evadb/lib/python3.10/site-packages (from torch>=1.10.0->evadb) (10.9.0.58)\n",
      "Requirement already satisfied: nvidia-curand-cu11==10.2.10.91 in /home/jarulraj3/eva/test_evadb/lib/python3.10/site-packages (from torch>=1.10.0->evadb) (10.2.10.91)\n",
      "Requirement already satisfied: nvidia-cusolver-cu11==11.4.0.1 in /home/jarulraj3/eva/test_evadb/lib/python3.10/site-packages (from torch>=1.10.0->evadb) (11.4.0.1)\n",
      "Requirement already satisfied: nvidia-cusparse-cu11==11.7.4.91 in /home/jarulraj3/eva/test_evadb/lib/python3.10/site-packages (from torch>=1.10.0->evadb) (11.7.4.91)\n",
      "Requirement already satisfied: nvidia-nccl-cu11==2.14.3 in /home/jarulraj3/eva/test_evadb/lib/python3.10/site-packages (from torch>=1.10.0->evadb) (2.14.3)\n",
      "Requirement already satisfied: nvidia-nvtx-cu11==11.7.91 in /home/jarulraj3/eva/test_evadb/lib/python3.10/site-packages (from torch>=1.10.0->evadb) (11.7.91)\n",
      "Requirement already satisfied: triton==2.0.0 in /home/jarulraj3/eva/test_evadb/lib/python3.10/site-packages (from torch>=1.10.0->evadb) (2.0.0)\n",
      "Requirement already satisfied: setuptools in /home/jarulraj3/eva/test_evadb/lib/python3.10/site-packages (from nvidia-cublas-cu11==11.10.3.66->torch>=1.10.0->evadb) (67.7.2)\n",
      "Requirement already satisfied: wheel in /home/jarulraj3/eva/test_evadb/lib/python3.10/site-packages (from nvidia-cublas-cu11==11.10.3.66->torch>=1.10.0->evadb) (0.38.4)\n",
      "Requirement already satisfied: cmake in /home/jarulraj3/eva/test_evadb/lib/python3.10/site-packages (from triton==2.0.0->torch>=1.10.0->evadb) (3.26.3)\n",
      "Requirement already satisfied: lit in /home/jarulraj3/eva/test_evadb/lib/python3.10/site-packages (from triton==2.0.0->torch>=1.10.0->evadb) (16.0.3)\n",
      "Requirement already satisfied: regex!=2019.12.17 in /home/jarulraj3/eva/test_evadb/lib/python3.10/site-packages (from transformers>=4.27.4->evadb) (2023.5.5)\n",
      "Requirement already satisfied: tokenizers!=0.11.3,<0.14,>=0.11.1 in /home/jarulraj3/eva/test_evadb/lib/python3.10/site-packages (from transformers>=4.27.4->evadb) (0.13.3)\n",
      "Requirement already satisfied: matplotlib>=3.2.2 in /home/jarulraj3/eva/test_evadb/lib/python3.10/site-packages (from ultralytics>=8.0.93->evadb) (3.7.1)\n",
      "Requirement already satisfied: opencv-python>=4.6.0 in /home/jarulraj3/eva/test_evadb/lib/python3.10/site-packages (from ultralytics>=8.0.93->evadb) (4.7.0.72)\n",
      "Requirement already satisfied: seaborn>=0.11.0 in /home/jarulraj3/eva/test_evadb/lib/python3.10/site-packages (from ultralytics>=8.0.93->evadb) (0.12.2)\n",
      "Requirement already satisfied: psutil in /home/jarulraj3/eva/test_evadb/lib/python3.10/site-packages (from ultralytics>=8.0.93->evadb) (5.9.5)\n",
      "Requirement already satisfied: thop>=0.1.1 in /home/jarulraj3/eva/test_evadb/lib/python3.10/site-packages (from ultralytics>=8.0.93->evadb) (0.1.1.post2209072238)\n",
      "Requirement already satisfied: sentry-sdk in /home/jarulraj3/eva/test_evadb/lib/python3.10/site-packages (from ultralytics>=8.0.93->evadb) (1.22.2)\n",
      "Requirement already satisfied: botocore<1.30.0,>=1.29.133 in /home/jarulraj3/eva/test_evadb/lib/python3.10/site-packages (from boto3->evadb) (1.29.133)\n",
      "Requirement already satisfied: jmespath<2.0.0,>=0.7.1 in /home/jarulraj3/eva/test_evadb/lib/python3.10/site-packages (from boto3->evadb) (1.0.1)\n",
      "Requirement already satisfied: s3transfer<0.7.0,>=0.6.0 in /home/jarulraj3/eva/test_evadb/lib/python3.10/site-packages (from boto3->evadb) (0.6.1)\n",
      "Requirement already satisfied: async-timeout<5.0.0,>=4.0.0 in /home/jarulraj3/eva/test_evadb/lib/python3.10/site-packages (from langchain->evadb) (4.0.2)\n",
      "Requirement already satisfied: dataclasses-json<0.6.0,>=0.5.7 in /home/jarulraj3/eva/test_evadb/lib/python3.10/site-packages (from langchain->evadb) (0.5.7)\n",
      "Requirement already satisfied: numexpr<3.0.0,>=2.8.4 in /home/jarulraj3/eva/test_evadb/lib/python3.10/site-packages (from langchain->evadb) (2.8.4)\n",
      "Requirement already satisfied: openapi-schema-pydantic<2.0,>=1.2 in /home/jarulraj3/eva/test_evadb/lib/python3.10/site-packages (from langchain->evadb) (1.2.4)\n",
      "Requirement already satisfied: pydantic<2,>=1 in /home/jarulraj3/eva/test_evadb/lib/python3.10/site-packages (from langchain->evadb) (1.10.7)\n",
      "Requirement already satisfied: tenacity<9.0.0,>=8.1.0 in /home/jarulraj3/eva/test_evadb/lib/python3.10/site-packages (from langchain->evadb) (8.2.2)\n",
      "Requirement already satisfied: charset-normalizer>=2.0.0 in /home/jarulraj3/eva/test_evadb/lib/python3.10/site-packages (from pdfminer.six->evadb) (2.1.1)\n",
      "Requirement already satisfied: cryptography>=36.0.0 in /home/jarulraj3/eva/test_evadb/lib/python3.10/site-packages (from pdfminer.six->evadb) (40.0.2)\n",
      "Requirement already satisfied: scikit-learn in /home/jarulraj3/eva/test_evadb/lib/python3.10/site-packages (from sentence-transformers->evadb) (1.2.2)\n",
      "Requirement already satisfied: nltk in /home/jarulraj3/eva/test_evadb/lib/python3.10/site-packages (from sentence-transformers->evadb) (3.8.1)\n",
      "Requirement already satisfied: sentencepiece in /home/jarulraj3/eva/test_evadb/lib/python3.10/site-packages (from sentence-transformers->evadb) (0.1.99)\n",
      "Requirement already satisfied: multidict<7.0,>=4.5 in /home/jarulraj3/eva/test_evadb/lib/python3.10/site-packages (from aiohttp->openai>=0.27.4->evadb) (6.0.4)\n",
      "Requirement already satisfied: yarl<2.0,>=1.0 in /home/jarulraj3/eva/test_evadb/lib/python3.10/site-packages (from aiohttp->openai>=0.27.4->evadb) (1.9.2)\n",
      "Requirement already satisfied: urllib3<1.27,>=1.25.4 in /home/jarulraj3/eva/test_evadb/lib/python3.10/site-packages (from botocore<1.30.0,>=1.29.133->boto3->evadb) (1.26.15)\n",
      "Requirement already satisfied: cffi>=1.12 in /home/jarulraj3/eva/test_evadb/lib/python3.10/site-packages (from cryptography>=36.0.0->pdfminer.six->evadb) (1.15.1)\n",
      "Requirement already satisfied: marshmallow<4.0.0,>=3.3.0 in /home/jarulraj3/eva/test_evadb/lib/python3.10/site-packages (from dataclasses-json<0.6.0,>=0.5.7->langchain->evadb) (3.19.0)\n",
      "Requirement already satisfied: marshmallow-enum<2.0.0,>=1.5.1 in /home/jarulraj3/eva/test_evadb/lib/python3.10/site-packages (from dataclasses-json<0.6.0,>=0.5.7->langchain->evadb) (1.5.1)\n",
      "Requirement already satisfied: typing-inspect>=0.4.0 in /home/jarulraj3/eva/test_evadb/lib/python3.10/site-packages (from dataclasses-json<0.6.0,>=0.5.7->langchain->evadb) (0.9.0)\n",
      "Requirement already satisfied: fsspec in /home/jarulraj3/eva/test_evadb/lib/python3.10/site-packages (from huggingface-hub->timm>=0.6.13->evadb) (2023.5.0)\n",
      "Requirement already satisfied: parso<0.9.0,>=0.8.0 in /home/jarulraj3/eva/test_evadb/lib/python3.10/site-packages (from jedi>=0.16->ipython<8.13.0->evadb) (0.8.3)\n",
      "Requirement already satisfied: contourpy>=1.0.1 in /home/jarulraj3/eva/test_evadb/lib/python3.10/site-packages (from matplotlib>=3.2.2->ultralytics>=8.0.93->evadb) (1.0.7)\n",
      "Requirement already satisfied: cycler>=0.10 in /home/jarulraj3/eva/test_evadb/lib/python3.10/site-packages (from matplotlib>=3.2.2->ultralytics>=8.0.93->evadb) (0.11.0)\n",
      "Requirement already satisfied: fonttools>=4.22.0 in /home/jarulraj3/eva/test_evadb/lib/python3.10/site-packages (from matplotlib>=3.2.2->ultralytics>=8.0.93->evadb) (4.39.4)\n",
      "Requirement already satisfied: kiwisolver>=1.0.1 in /home/jarulraj3/eva/test_evadb/lib/python3.10/site-packages (from matplotlib>=3.2.2->ultralytics>=8.0.93->evadb) (1.4.4)\n",
      "Requirement already satisfied: pyparsing>=2.3.1 in /home/jarulraj3/eva/test_evadb/lib/python3.10/site-packages (from matplotlib>=3.2.2->ultralytics>=8.0.93->evadb) (3.0.9)\n",
      "Requirement already satisfied: ptyprocess>=0.5 in /home/jarulraj3/eva/test_evadb/lib/python3.10/site-packages (from pexpect>4.3->ipython<8.13.0->evadb) (0.7.0)\n",
      "Requirement already satisfied: wcwidth in /home/jarulraj3/eva/test_evadb/lib/python3.10/site-packages (from prompt-toolkit!=3.0.37,<3.1.0,>=3.0.30->ipython<8.13.0->evadb) (0.2.6)\n",
      "Requirement already satisfied: six>=1.5 in /home/jarulraj3/eva/test_evadb/lib/python3.10/site-packages (from python-dateutil>=2.8.2->pandas>=1.1.5->evadb) (1.16.0)\n",
      "Requirement already satisfied: idna<4,>=2.5 in /home/jarulraj3/eva/test_evadb/lib/python3.10/site-packages (from requests->facenet-pytorch>=2.5.2->evadb) (3.4)\n",
      "Requirement already satisfied: certifi>=2017.4.17 in /home/jarulraj3/eva/test_evadb/lib/python3.10/site-packages (from requests->facenet-pytorch>=2.5.2->evadb) (2023.5.7)\n",
      "Requirement already satisfied: commonmark<0.10.0,>=0.9.0 in /home/jarulraj3/eva/test_evadb/lib/python3.10/site-packages (from rich<13.0.0,>=9.10.0->norfair>=2.2.0->evadb) (0.9.1)\n",
      "Requirement already satisfied: distlib<1,>=0.3.6 in /home/jarulraj3/eva/test_evadb/lib/python3.10/site-packages (from virtualenv<20.21.1,>=20.0.24->ray>=1.13.0->evadb) (0.3.6)\n",
      "Requirement already satisfied: platformdirs<4,>=2.4 in /home/jarulraj3/eva/test_evadb/lib/python3.10/site-packages (from virtualenv<20.21.1,>=20.0.24->ray>=1.13.0->evadb) (3.5.1)\n",
      "Requirement already satisfied: MarkupSafe>=2.0 in /home/jarulraj3/eva/test_evadb/lib/python3.10/site-packages (from jinja2->torch>=1.10.0->evadb) (2.1.2)\n",
      "Requirement already satisfied: pyrsistent!=0.17.0,!=0.17.1,!=0.17.2,>=0.14.0 in /home/jarulraj3/eva/test_evadb/lib/python3.10/site-packages (from jsonschema->ray>=1.13.0->evadb) (0.19.3)\n",
      "Requirement already satisfied: joblib in /home/jarulraj3/eva/test_evadb/lib/python3.10/site-packages (from nltk->sentence-transformers->evadb) (1.2.0)\n",
      "Requirement already satisfied: threadpoolctl>=2.0.0 in /home/jarulraj3/eva/test_evadb/lib/python3.10/site-packages (from scikit-learn->sentence-transformers->evadb) (3.1.0)\n",
      "Requirement already satisfied: executing>=1.2.0 in /home/jarulraj3/eva/test_evadb/lib/python3.10/site-packages (from stack-data->ipython<8.13.0->evadb) (1.2.0)\n",
      "Requirement already satisfied: asttokens>=2.1.0 in /home/jarulraj3/eva/test_evadb/lib/python3.10/site-packages (from stack-data->ipython<8.13.0->evadb) (2.2.1)\n",
      "Requirement already satisfied: pure-eval in /home/jarulraj3/eva/test_evadb/lib/python3.10/site-packages (from stack-data->ipython<8.13.0->evadb) (0.2.2)\n",
      "Requirement already satisfied: mpmath>=0.19 in /home/jarulraj3/eva/test_evadb/lib/python3.10/site-packages (from sympy->torch>=1.10.0->evadb) (1.3.0)\n",
      "Requirement already satisfied: pycparser in /home/jarulraj3/eva/test_evadb/lib/python3.10/site-packages (from cffi>=1.12->cryptography>=36.0.0->pdfminer.six->evadb) (2.21)\n",
      "Requirement already satisfied: mypy-extensions>=0.3.0 in /home/jarulraj3/eva/test_evadb/lib/python3.10/site-packages (from typing-inspect>=0.4.0->dataclasses-json<0.6.0,>=0.5.7->langchain->evadb) (1.0.0)\n",
      "Note: you may need to restart the kernel to use updated packages.\n"
     ]
    }
   ],
   "source": [
    "%pip install --quiet evadb\n",
    "import evadb\n",
    "cursor = evadb.connect().cursor()"
   ]
  },
  {
   "attachments": {},
   "cell_type": "markdown",
   "id": "93e60a0f",
   "metadata": {},
   "source": [
    "### Loading the images to EvaDB for analysis"
   ]
  },
  {
   "cell_type": "code",
   "execution_count": 6,
   "id": "e2f7e482",
   "metadata": {
    "execution": {
     "iopub.execute_input": "2023-05-09T03:42:10.835311Z",
     "iopub.status.busy": "2023-05-09T03:42:10.834763Z",
     "iopub.status.idle": "2023-05-09T03:42:12.524283Z",
     "shell.execute_reply": "2023-05-09T03:42:12.523465Z"
    }
   },
   "outputs": [
    {
     "name": "stdout",
     "output_type": "stream",
     "text": [
      "File 'license.zip' already there; not retrieving.\n",
      "\n",
      "Archive:  license.zip\n"
     ]
    },
    {
     "name": "stderr",
     "output_type": "stream",
     "text": [
      "06-06-2023 20:53:26 WARNING[drop_executor:drop_executor.py:exec:0045] Table: MyImages does not exist\n"
     ]
    },
    {
     "data": {
      "text/html": [
       "<div>\n",
       "<style scoped>\n",
       "    .dataframe tbody tr th:only-of-type {\n",
       "        vertical-align: middle;\n",
       "    }\n",
       "\n",
       "    .dataframe tbody tr th {\n",
       "        vertical-align: top;\n",
       "    }\n",
       "\n",
       "    .dataframe thead th {\n",
       "        text-align: right;\n",
       "    }\n",
       "</style>\n",
       "<table border=\"1\" class=\"dataframe\">\n",
       "  <thead>\n",
       "    <tr style=\"text-align: right;\">\n",
       "      <th></th>\n",
       "      <th>0</th>\n",
       "    </tr>\n",
       "  </thead>\n",
       "  <tbody>\n",
       "    <tr>\n",
       "      <th>0</th>\n",
       "      <td>Number of loaded IMAGE: 7</td>\n",
       "    </tr>\n",
       "  </tbody>\n",
       "</table><br><br>\n",
       "</div>"
      ],
      "text/plain": [
       "                           0\n",
       "0  Number of loaded IMAGE: 7"
      ]
     },
     "execution_count": 6,
     "metadata": {},
     "output_type": "execute_result"
    }
   ],
   "source": [
    "# Download images\n",
    "!wget -nc \"https://www.dropbox.com/s/770stddqfl0psog/license.zip\"\n",
    "!unzip -n license.zip\n",
    "\n",
    "cursor.query('DROP TABLE IF EXISTS MyImages;').df()\n",
    "\n",
    "cursor.load(\"license/Car*.png\", \"MyImages\", format=\"image\").df()"
   ]
  },
  {
   "attachments": {},
   "cell_type": "markdown",
   "id": "322c0ab2",
   "metadata": {},
   "source": [
    "### License Plate Recognition"
   ]
  },
  {
   "cell_type": "code",
   "execution_count": 7,
   "id": "dced71f6",
   "metadata": {
    "execution": {
     "iopub.execute_input": "2023-05-09T03:42:12.528586Z",
     "iopub.status.busy": "2023-05-09T03:42:12.528322Z",
     "iopub.status.idle": "2023-05-09T03:42:19.194000Z",
     "shell.execute_reply": "2023-05-09T03:42:19.193166Z"
    }
   },
   "outputs": [
    {
     "name": "stdout",
     "output_type": "stream",
     "text": [
      "File 'fuzzy_join.py' already there; not retrieving.\n",
      "\n",
      "File 'ocr_extractor.py' already there; not retrieving.\n",
      "\n"
     ]
    },
    {
     "name": "stderr",
     "output_type": "stream",
     "text": [
      "06-06-2023 20:53:31 WARNING[drop_udf_executor:drop_udf_executor.py:exec:0039] UDF OCRExtractor does not exist, therefore cannot be dropped.\n",
      "06-06-2023 20:53:31 WARNING[drop_udf_executor:drop_udf_executor.py:exec:0039] UDF FuzzDistance does not exist, therefore cannot be dropped.\n",
      "06-06-2023 20:53:35 ERROR [plan_executor:plan_executor.py:execute_plan:0169] Cannot infer io signature from the decorator for <class 'ocr_extractor.OCRExtractor'>.\n",
      "Traceback (most recent call last):\n",
      "  File \"/nethome/jarulraj3/eva/test_evadb/lib/python3.10/site-packages/eva/executor/plan_executor.py\", line 167, in execute_plan\n",
      "    yield from output\n",
      "  File \"/nethome/jarulraj3/eva/test_evadb/lib/python3.10/site-packages/eva/executor/create_udf_executor.py\", line 114, in exec\n",
      "    name, impl_path, udf_type, io_list, metadata = self.handle_generic_udf()\n",
      "  File \"/nethome/jarulraj3/eva/test_evadb/lib/python3.10/site-packages/eva/executor/create_udf_executor.py\", line 82, in handle_generic_udf\n",
      "    io_list = self._resolve_udf_io(udf)\n",
      "  File \"/nethome/jarulraj3/eva/test_evadb/lib/python3.10/site-packages/eva/executor/create_udf_executor.py\", line 175, in _resolve_udf_io\n",
      "    io_list.extend(load_io_from_udf_decorators(udf, is_input=True))\n",
      "  File \"/nethome/jarulraj3/eva/test_evadb/lib/python3.10/site-packages/eva/udfs/decorators/utils.py\", line 47, in load_io_from_udf_decorators\n",
      "    io_signature is not None\n",
      "AssertionError: Cannot infer io signature from the decorator for <class 'ocr_extractor.OCRExtractor'>.\n"
     ]
    },
    {
     "ename": "ExecutorError",
     "evalue": "Cannot infer io signature from the decorator for <class 'ocr_extractor.OCRExtractor'>.",
     "output_type": "error",
     "traceback": [
      "\u001b[0;31m---------------------------------------------------------------------------\u001b[0m",
      "\u001b[0;31mAssertionError\u001b[0m                            Traceback (most recent call last)",
      "File \u001b[0;32m~/eva/test_evadb/lib/python3.10/site-packages/eva/executor/plan_executor.py:167\u001b[0m, in \u001b[0;36mPlanExecutor.execute_plan\u001b[0;34m(self)\u001b[0m\n\u001b[1;32m    166\u001b[0m     \u001b[39mif\u001b[39;00m output \u001b[39mis\u001b[39;00m \u001b[39mnot\u001b[39;00m \u001b[39mNone\u001b[39;00m:\n\u001b[0;32m--> 167\u001b[0m         \u001b[39myield from\u001b[39;00m output\n\u001b[1;32m    168\u001b[0m \u001b[39mexcept\u001b[39;00m \u001b[39mException\u001b[39;00m \u001b[39mas\u001b[39;00m e:\n",
      "File \u001b[0;32m~/eva/test_evadb/lib/python3.10/site-packages/eva/executor/create_udf_executor.py:114\u001b[0m, in \u001b[0;36mCreateUDFExecutor.exec\u001b[0;34m(self, *args, **kwargs)\u001b[0m\n\u001b[1;32m    113\u001b[0m \u001b[39melse\u001b[39;00m:\n\u001b[0;32m--> 114\u001b[0m     name, impl_path, udf_type, io_list, metadata \u001b[39m=\u001b[39m \u001b[39mself\u001b[39;49m\u001b[39m.\u001b[39;49mhandle_generic_udf()\n\u001b[1;32m    116\u001b[0m \u001b[39mself\u001b[39m\u001b[39m.\u001b[39mcatalog()\u001b[39m.\u001b[39minsert_udf_catalog_entry(\n\u001b[1;32m    117\u001b[0m     name, impl_path, udf_type, io_list, metadata\n\u001b[1;32m    118\u001b[0m )\n",
      "File \u001b[0;32m~/eva/test_evadb/lib/python3.10/site-packages/eva/executor/create_udf_executor.py:82\u001b[0m, in \u001b[0;36mCreateUDFExecutor.handle_generic_udf\u001b[0;34m(self)\u001b[0m\n\u001b[1;32m     81\u001b[0m udf \u001b[39m=\u001b[39m \u001b[39mself\u001b[39m\u001b[39m.\u001b[39m_try_initializing_udf(impl_path)\n\u001b[0;32m---> 82\u001b[0m io_list \u001b[39m=\u001b[39m \u001b[39mself\u001b[39;49m\u001b[39m.\u001b[39;49m_resolve_udf_io(udf)\n\u001b[1;32m     84\u001b[0m \u001b[39mreturn\u001b[39;00m (\n\u001b[1;32m     85\u001b[0m     \u001b[39mself\u001b[39m\u001b[39m.\u001b[39mnode\u001b[39m.\u001b[39mname,\n\u001b[1;32m     86\u001b[0m     impl_path,\n\u001b[0;32m   (...)\u001b[0m\n\u001b[1;32m     89\u001b[0m     \u001b[39mself\u001b[39m\u001b[39m.\u001b[39mnode\u001b[39m.\u001b[39mmetadata,\n\u001b[1;32m     90\u001b[0m )\n",
      "File \u001b[0;32m~/eva/test_evadb/lib/python3.10/site-packages/eva/executor/create_udf_executor.py:175\u001b[0m, in \u001b[0;36mCreateUDFExecutor._resolve_udf_io\u001b[0;34m(self, udf)\u001b[0m\n\u001b[1;32m    173\u001b[0m \u001b[39melse\u001b[39;00m:\n\u001b[1;32m    174\u001b[0m     \u001b[39m# try to load the inputs from decorators, the inputs from CREATE statement take precedence\u001b[39;00m\n\u001b[0;32m--> 175\u001b[0m     io_list\u001b[39m.\u001b[39mextend(load_io_from_udf_decorators(udf, is_input\u001b[39m=\u001b[39;49m\u001b[39mTrue\u001b[39;49;00m))\n\u001b[1;32m    177\u001b[0m \u001b[39mif\u001b[39;00m \u001b[39mself\u001b[39m\u001b[39m.\u001b[39mnode\u001b[39m.\u001b[39moutputs:\n",
      "File \u001b[0;32m~/eva/test_evadb/lib/python3.10/site-packages/eva/udfs/decorators/utils.py:47\u001b[0m, in \u001b[0;36mload_io_from_udf_decorators\u001b[0;34m(udf, is_input)\u001b[0m\n\u001b[1;32m     44\u001b[0m                 \u001b[39mbreak\u001b[39;00m\n\u001b[1;32m     46\u001b[0m \u001b[39massert\u001b[39;00m (\n\u001b[0;32m---> 47\u001b[0m     io_signature \u001b[39mis\u001b[39;00m \u001b[39mnot\u001b[39;00m \u001b[39mNone\u001b[39;00m\n\u001b[1;32m     48\u001b[0m ), \u001b[39mf\u001b[39m\u001b[39m\"\u001b[39m\u001b[39mCannot infer io signature from the decorator for \u001b[39m\u001b[39m{\u001b[39;00mudf\u001b[39m}\u001b[39;00m\u001b[39m.\u001b[39m\u001b[39m\"\u001b[39m\n\u001b[1;32m     50\u001b[0m result_list \u001b[39m=\u001b[39m []\n",
      "\u001b[0;31mAssertionError\u001b[0m: Cannot infer io signature from the decorator for <class 'ocr_extractor.OCRExtractor'>.",
      "\nDuring handling of the above exception, another exception occurred:\n",
      "\u001b[0;31mExecutorError\u001b[0m                             Traceback (most recent call last)",
      "Cell \u001b[0;32mIn[7], line 11\u001b[0m\n\u001b[1;32m      7\u001b[0m cursor\u001b[39m.\u001b[39mquery(\u001b[39m\"\"\"\u001b[39m\u001b[39mDROP UDF IF EXISTS OCRExtractor;\u001b[39m\u001b[39m\"\"\"\u001b[39m)\u001b[39m.\u001b[39mdf()\n\u001b[1;32m      9\u001b[0m cursor\u001b[39m.\u001b[39mquery(\u001b[39m\"\"\"\u001b[39m\u001b[39mDROP UDF IF EXISTS FuzzDistance;\u001b[39m\u001b[39m\"\"\"\u001b[39m)\u001b[39m.\u001b[39mdf()\n\u001b[0;32m---> 11\u001b[0m cursor\u001b[39m.\u001b[39;49mcreate_udf(\u001b[39m\"\u001b[39;49m\u001b[39mOCRExtractor\u001b[39;49m\u001b[39m\"\u001b[39;49m, \u001b[39mTrue\u001b[39;49;00m, \u001b[39m'\u001b[39;49m\u001b[39mocr_extractor.py\u001b[39;49m\u001b[39m'\u001b[39;49m)\u001b[39m.\u001b[39;49mdf()\n\u001b[1;32m     12\u001b[0m cursor\u001b[39m.\u001b[39mcreate_udf(\u001b[39m\"\u001b[39m\u001b[39mFuzzDistance\u001b[39m\u001b[39m\"\u001b[39m, \u001b[39mTrue\u001b[39;00m, \u001b[39m'\u001b[39m\u001b[39mfuzzy_join.py\u001b[39m\u001b[39m'\u001b[39m)\u001b[39m.\u001b[39mdf()\n",
      "File \u001b[0;32m~/eva/test_evadb/lib/python3.10/site-packages/eva/interfaces/relational/relation.py:110\u001b[0m, in \u001b[0;36mEvaDBQuery.df\u001b[0;34m(self)\u001b[0m\n\u001b[1;32m    104\u001b[0m \u001b[39mdef\u001b[39;00m \u001b[39mdf\u001b[39m(\u001b[39mself\u001b[39m) \u001b[39m-\u001b[39m\u001b[39m>\u001b[39m pandas\u001b[39m.\u001b[39mDataFrame:\n\u001b[1;32m    105\u001b[0m \u001b[39m    \u001b[39m\u001b[39m\"\"\"Execute and fetch all rows as a pandas DataFrame\u001b[39;00m\n\u001b[1;32m    106\u001b[0m \n\u001b[1;32m    107\u001b[0m \u001b[39m    Returns:\u001b[39;00m\n\u001b[1;32m    108\u001b[0m \u001b[39m        pandas.DataFrame:\u001b[39;00m\n\u001b[1;32m    109\u001b[0m \u001b[39m    \"\"\"\u001b[39;00m\n\u001b[0;32m--> 110\u001b[0m     batch \u001b[39m=\u001b[39m \u001b[39mself\u001b[39;49m\u001b[39m.\u001b[39;49mexecute()\n\u001b[1;32m    111\u001b[0m     \u001b[39massert\u001b[39;00m batch \u001b[39mis\u001b[39;00m \u001b[39mnot\u001b[39;00m \u001b[39mNone\u001b[39;00m, \u001b[39m\"\u001b[39m\u001b[39mrelation execute failed\u001b[39m\u001b[39m\"\u001b[39m\n\u001b[1;32m    112\u001b[0m     \u001b[39mreturn\u001b[39;00m batch\u001b[39m.\u001b[39mframes\n",
      "File \u001b[0;32m~/eva/test_evadb/lib/python3.10/site-packages/eva/interfaces/relational/relation.py:120\u001b[0m, in \u001b[0;36mEvaDBQuery.execute\u001b[0;34m(self)\u001b[0m\n\u001b[1;32m    114\u001b[0m \u001b[39mdef\u001b[39;00m \u001b[39mexecute\u001b[39m(\u001b[39mself\u001b[39m) \u001b[39m-\u001b[39m\u001b[39m>\u001b[39m Batch:\n\u001b[1;32m    115\u001b[0m \u001b[39m    \u001b[39m\u001b[39m\"\"\"Transform the relation into a result set\u001b[39;00m\n\u001b[1;32m    116\u001b[0m \n\u001b[1;32m    117\u001b[0m \u001b[39m    Returns:\u001b[39;00m\n\u001b[1;32m    118\u001b[0m \u001b[39m        Batch: result as eva Batch\u001b[39;00m\n\u001b[1;32m    119\u001b[0m \u001b[39m    \"\"\"\u001b[39;00m\n\u001b[0;32m--> 120\u001b[0m     result \u001b[39m=\u001b[39m execute_statement(\u001b[39mself\u001b[39;49m\u001b[39m.\u001b[39;49m_evadb, \u001b[39mself\u001b[39;49m\u001b[39m.\u001b[39;49m_query_node\u001b[39m.\u001b[39;49mcopy())\n\u001b[1;32m    121\u001b[0m     \u001b[39massert\u001b[39;00m result\u001b[39m.\u001b[39mframes \u001b[39mis\u001b[39;00m \u001b[39mnot\u001b[39;00m \u001b[39mNone\u001b[39;00m\n\u001b[1;32m    122\u001b[0m     \u001b[39mreturn\u001b[39;00m result\n",
      "File \u001b[0;32m~/eva/test_evadb/lib/python3.10/site-packages/eva/interfaces/relational/utils.py:61\u001b[0m, in \u001b[0;36mexecute_statement\u001b[0;34m(evadb, statement)\u001b[0m\n\u001b[1;32m     59\u001b[0m output \u001b[39m=\u001b[39m PlanExecutor(evadb, p_plan)\u001b[39m.\u001b[39mexecute_plan()\n\u001b[1;32m     60\u001b[0m \u001b[39mif\u001b[39;00m output:\n\u001b[0;32m---> 61\u001b[0m     batch_list \u001b[39m=\u001b[39m \u001b[39mlist\u001b[39;49m(output)\n\u001b[1;32m     62\u001b[0m     \u001b[39mreturn\u001b[39;00m Batch\u001b[39m.\u001b[39mconcat(batch_list, copy\u001b[39m=\u001b[39m\u001b[39mFalse\u001b[39;00m)\n",
      "File \u001b[0;32m~/eva/test_evadb/lib/python3.10/site-packages/eva/executor/plan_executor.py:170\u001b[0m, in \u001b[0;36mPlanExecutor.execute_plan\u001b[0;34m(self)\u001b[0m\n\u001b[1;32m    168\u001b[0m \u001b[39mexcept\u001b[39;00m \u001b[39mException\u001b[39;00m \u001b[39mas\u001b[39;00m e:\n\u001b[1;32m    169\u001b[0m     logger\u001b[39m.\u001b[39mexception(\u001b[39mstr\u001b[39m(e))\n\u001b[0;32m--> 170\u001b[0m     \u001b[39mraise\u001b[39;00m ExecutorError(e)\n",
      "\u001b[0;31mExecutorError\u001b[0m: Cannot infer io signature from the decorator for <class 'ocr_extractor.OCRExtractor'>."
     ]
    }
   ],
   "source": [
    "# Download UDFS\n",
    "\n",
    "!wget -nc https://raw.githubusercontent.com/georgia-tech-db/eva/master/evadb/udfs/ndarray/fuzzy_join.py\n",
    "\n",
    "!wget -nc https://raw.githubusercontent.com/georgia-tech-db/eva/master/evadb/udfs/ocr_extractor.py\n",
    "\n",
    "cursor.query(\"\"\"DROP UDF IF EXISTS OCRExtractor;\"\"\").df()\n",
    "\n",
    "cursor.query(\"\"\"DROP UDF IF EXISTS FuzzDistance;\"\"\").df()\n",
    "\n",
    "cursor.create_udf(\"OCRExtractor\", True, 'ocr_extractor.py').df()\n",
    "cursor.create_udf(\"FuzzDistance\", True, 'fuzzy_join.py').df()"
   ]
  },
  {
   "cell_type": "code",
   "execution_count": null,
   "id": "d3d921b0",
   "metadata": {
    "execution": {
     "iopub.execute_input": "2023-05-09T03:42:19.198919Z",
     "iopub.status.busy": "2023-05-09T03:42:19.198645Z",
     "iopub.status.idle": "2023-05-09T03:42:19.253515Z",
     "shell.execute_reply": "2023-05-09T03:42:19.252403Z"
    }
   },
   "outputs": [
    {
     "data": {
      "text/html": [
       "<div>\n",
       "<style scoped>\n",
       "    .dataframe tbody tr th:only-of-type {\n",
       "        vertical-align: middle;\n",
       "    }\n",
       "\n",
       "    .dataframe tbody tr th {\n",
       "        vertical-align: top;\n",
       "    }\n",
       "\n",
       "    .dataframe thead th {\n",
       "        text-align: right;\n",
       "    }\n",
       "</style>\n",
       "<table border=\"1\" class=\"dataframe\">\n",
       "  <thead>\n",
       "    <tr style=\"text-align: right;\">\n",
       "      <th></th>\n",
       "    </tr>\n",
       "  </thead>\n",
       "  <tbody>\n",
       "  </tbody>\n",
       "</table><br><br>\n",
       "</div>"
      ],
      "text/plain": [
       "Empty DataFrame\n",
       "Columns: []\n",
       "Index: []"
      ]
     },
     "execution_count": 4,
     "metadata": {},
     "output_type": "execute_result"
    }
   ],
   "source": [
    "cursor.query(\n",
    "    \"CREATE TABLE IF NOT EXISTS LicensePlateCSV(id INTEGER UNIQUE, label TEXT(30));\"\n",
    ").df()"
   ]
  },
  {
   "cell_type": "code",
   "execution_count": null,
   "id": "03187c26",
   "metadata": {
    "execution": {
     "iopub.execute_input": "2023-05-09T03:42:19.258081Z",
     "iopub.status.busy": "2023-05-09T03:42:19.257829Z",
     "iopub.status.idle": "2023-05-09T03:42:19.291408Z",
     "shell.execute_reply": "2023-05-09T03:42:19.290559Z"
    }
   },
   "outputs": [
    {
     "ename": "NameError",
     "evalue": "name 'cursor' is not defined",
     "output_type": "error",
     "traceback": [
      "\u001b[0;31m---------------------------------------------------------------------------\u001b[0m",
      "\u001b[0;31mNameError\u001b[0m                                 Traceback (most recent call last)",
      "Cell \u001b[0;32mIn[1], line 1\u001b[0m\n\u001b[0;32m----> 1\u001b[0m cursor\u001b[39m.\u001b[39mload(\u001b[39m\"\u001b[39m\u001b[39mdata.csv\u001b[39m\u001b[39m\"\u001b[39m, \u001b[39m\"\u001b[39m\u001b[39mLicensePlateCSV\u001b[39m\u001b[39m\"\u001b[39m)\u001b[39m.\u001b[39mdf()\n",
      "\u001b[0;31mNameError\u001b[0m: name 'cursor' is not defined"
     ]
    }
   ],
   "source": [
    "cursor.load(\"data.csv\", \"LicensePlateCSV\").df()"
   ]
  },
  {
   "cell_type": "code",
   "execution_count": null,
   "id": "a0eb6fb0",
   "metadata": {
    "execution": {
     "iopub.execute_input": "2023-05-09T03:42:19.295535Z",
     "iopub.status.busy": "2023-05-09T03:42:19.295271Z",
     "iopub.status.idle": "2023-05-09T03:42:25.468763Z",
     "shell.execute_reply": "2023-05-09T03:42:25.468062Z"
    }
   },
   "outputs": [
    {
     "data": {
      "text/html": [
       "<div>\n",
       "<style scoped>\n",
       "    .dataframe tbody tr th:only-of-type {\n",
       "        vertical-align: middle;\n",
       "    }\n",
       "\n",
       "    .dataframe tbody tr th {\n",
       "        vertical-align: top;\n",
       "    }\n",
       "\n",
       "    .dataframe thead th {\n",
       "        text-align: right;\n",
       "    }\n",
       "</style>\n",
       "<table border=\"1\" class=\"dataframe\">\n",
       "  <thead>\n",
       "    <tr style=\"text-align: right;\">\n",
       "      <th></th>\n",
       "      <th>ocrextractor.labels</th>\n",
       "      <th>ocrextractor.bboxes</th>\n",
       "      <th>ocrextractor.scores</th>\n",
       "    </tr>\n",
       "  </thead>\n",
       "  <tbody>\n",
       "    <tr>\n",
       "      <th>0</th>\n",
       "      <td>[KLo1CN2555]</td>\n",
       "      <td>[[[240, 115], [425, 115], [425, 178], [240, 17...</td>\n",
       "      <td>[0.20029704378116528]</td>\n",
       "    </tr>\n",
       "    <tr>\n",
       "      <th>1</th>\n",
       "      <td>[Coi, ZZm, PGoNMN112]</td>\n",
       "      <td>[[[320, 96], [342, 96], [342, 104], [320, 104]...</td>\n",
       "      <td>[0.2585151841538518, 0.009615490492723363, 0.1...</td>\n",
       "    </tr>\n",
       "    <tr>\n",
       "      <th>2</th>\n",
       "      <td>[PReINLR]</td>\n",
       "      <td>[[[227, 173], [269, 173], [269, 193], [227, 19...</td>\n",
       "      <td>[0.12317288475094909]</td>\n",
       "    </tr>\n",
       "    <tr>\n",
       "      <th>3</th>\n",
       "      <td>[DZI7 YXR]</td>\n",
       "      <td>[[[150, 126], [250, 126], [250, 158], [150, 15...</td>\n",
       "      <td>[0.6978633091234704]</td>\n",
       "    </tr>\n",
       "    <tr>\n",
       "      <th>4</th>\n",
       "      <td>[pPuie, BES]</td>\n",
       "      <td>[[[175.83355283634924, 85.05243648347647], [38...</td>\n",
       "      <td>[0.19272780155017014, 0.9999165839414489]</td>\n",
       "    </tr>\n",
       "    <tr>\n",
       "      <th>5</th>\n",
       "      <td>[Wet, alamy stock photo]</td>\n",
       "      <td>[[[362, 274], [384, 274], [384, 280], [362, 28...</td>\n",
       "      <td>[0.002928912305910474, 0.9390591079980826]</td>\n",
       "    </tr>\n",
       "    <tr>\n",
       "      <th>6</th>\n",
       "      <td>[802.LIN, MMay, VIRGINIA, 07]</td>\n",
       "      <td>[[[157, 141], [370, 141], [370, 219], [157, 21...</td>\n",
       "      <td>[0.8629838375738593, 0.3385108709335327, 0.999...</td>\n",
       "    </tr>\n",
       "  </tbody>\n",
       "</table><br><br>\n",
       "</div>"
      ],
      "text/plain": [
       "             ocrextractor.labels  \\\n",
       "0                   [KLo1CN2555]   \n",
       "1          [Coi, ZZm, PGoNMN112]   \n",
       "2                      [PReINLR]   \n",
       "3                     [DZI7 YXR]   \n",
       "4                   [pPuie, BES]   \n",
       "5       [Wet, alamy stock photo]   \n",
       "6  [802.LIN, MMay, VIRGINIA, 07]   \n",
       "\n",
       "                                 ocrextractor.bboxes  \\\n",
       "0  [[[240, 115], [425, 115], [425, 178], [240, 17...   \n",
       "1  [[[320, 96], [342, 96], [342, 104], [320, 104]...   \n",
       "2  [[[227, 173], [269, 173], [269, 193], [227, 19...   \n",
       "3  [[[150, 126], [250, 126], [250, 158], [150, 15...   \n",
       "4  [[[175.83355283634924, 85.05243648347647], [38...   \n",
       "5  [[[362, 274], [384, 274], [384, 280], [362, 28...   \n",
       "6  [[[157, 141], [370, 141], [370, 219], [157, 21...   \n",
       "\n",
       "                                 ocrextractor.scores  \n",
       "0                              [0.20029704378116528]  \n",
       "1  [0.2585151841538518, 0.009615490492723363, 0.1...  \n",
       "2                              [0.12317288475094909]  \n",
       "3                               [0.6978633091234704]  \n",
       "4          [0.19272780155017014, 0.9999165839414489]  \n",
       "5         [0.002928912305910474, 0.9390591079980826]  \n",
       "6  [0.8629838375738593, 0.3385108709335327, 0.999...  "
      ]
     },
     "execution_count": 6,
     "metadata": {},
     "output_type": "execute_result"
    }
   ],
   "source": [
    "query = cursor.connect(\"MyImages\")\n",
    "query = query.select(\"OCRExtractor(data)\")\n",
    "\n",
    "query.df()"
   ]
  },
  {
   "cell_type": "code",
   "execution_count": null,
   "id": "e93233e9",
   "metadata": {
    "execution": {
     "iopub.execute_input": "2023-05-09T03:42:25.473643Z",
     "iopub.status.busy": "2023-05-09T03:42:25.473385Z",
     "iopub.status.idle": "2023-05-09T03:42:30.989642Z",
     "shell.execute_reply": "2023-05-09T03:42:30.988967Z"
    }
   },
   "outputs": [
    {
     "data": {
      "text/html": [
       "<div>\n",
       "<style scoped>\n",
       "    .dataframe tbody tr th:only-of-type {\n",
       "        vertical-align: middle;\n",
       "    }\n",
       "\n",
       "    .dataframe tbody tr th {\n",
       "        vertical-align: top;\n",
       "    }\n",
       "\n",
       "    .dataframe thead th {\n",
       "        text-align: right;\n",
       "    }\n",
       "</style>\n",
       "<table border=\"1\" class=\"dataframe\">\n",
       "  <thead>\n",
       "    <tr style=\"text-align: right;\">\n",
       "      <th></th>\n",
       "      <th>licenseplatecsv._row_id</th>\n",
       "      <th>licenseplatecsv.id</th>\n",
       "      <th>licenseplatecsv.label</th>\n",
       "    </tr>\n",
       "  </thead>\n",
       "  <tbody>\n",
       "    <tr>\n",
       "      <th>0</th>\n",
       "      <td>1</td>\n",
       "      <td>1</td>\n",
       "      <td>KLG1CA2555</td>\n",
       "    </tr>\n",
       "    <tr>\n",
       "      <th>1</th>\n",
       "      <td>2</td>\n",
       "      <td>2</td>\n",
       "      <td>PGMN112</td>\n",
       "    </tr>\n",
       "    <tr>\n",
       "      <th>2</th>\n",
       "      <td>3</td>\n",
       "      <td>3</td>\n",
       "      <td>PRENUP</td>\n",
       "    </tr>\n",
       "    <tr>\n",
       "      <th>3</th>\n",
       "      <td>4</td>\n",
       "      <td>4</td>\n",
       "      <td>DZ17YXR</td>\n",
       "    </tr>\n",
       "    <tr>\n",
       "      <th>4</th>\n",
       "      <td>5</td>\n",
       "      <td>5</td>\n",
       "      <td>PUI8BES</td>\n",
       "    </tr>\n",
       "  </tbody>\n",
       "</table><br><br>\n",
       "</div>"
      ],
      "text/plain": [
       "   licenseplatecsv._row_id  licenseplatecsv.id licenseplatecsv.label\n",
       "0                        1                   1            KLG1CA2555\n",
       "1                        2                   2               PGMN112\n",
       "2                        3                   3                PRENUP\n",
       "3                        4                   4               DZ17YXR\n",
       "4                        5                   5               PUI8BES"
      ]
     },
     "execution_count": 7,
     "metadata": {},
     "output_type": "execute_result"
    }
   ],
   "source": [
    "query = cursor.connect(\"LicensePlateCSV\")\n",
    "query = query.select(\"*\")\n",
    "\n",
    "query.df()"
   ]
  },
  {
   "attachments": {},
   "cell_type": "markdown",
   "id": "4b41f136",
   "metadata": {},
   "source": [
    "### Run Fuzzy Join to match Detected License Plate against Local License Plate Database (csv)"
   ]
  },
  {
   "cell_type": "code",
   "execution_count": null,
   "id": "9431e221",
   "metadata": {
    "execution": {
     "iopub.execute_input": "2023-05-09T03:42:30.994206Z",
     "iopub.status.busy": "2023-05-09T03:42:30.993956Z",
     "iopub.status.idle": "2023-05-09T03:42:38.217366Z",
     "shell.execute_reply": "2023-05-09T03:42:38.216338Z"
    }
   },
   "outputs": [
    {
     "data": {
      "text/html": [
       "<div>\n",
       "<style scoped>\n",
       "    .dataframe tbody tr th:only-of-type {\n",
       "        vertical-align: middle;\n",
       "    }\n",
       "\n",
       "    .dataframe tbody tr th {\n",
       "        vertical-align: top;\n",
       "    }\n",
       "\n",
       "    .dataframe thead th {\n",
       "        text-align: right;\n",
       "    }\n",
       "</style>\n",
       "<table border=\"1\" class=\"dataframe\">\n",
       "  <thead>\n",
       "    <tr style=\"text-align: right;\">\n",
       "      <th></th>\n",
       "      <th>myimages._row_id</th>\n",
       "      <th>myimages.name</th>\n",
       "      <th>myimages.data</th>\n",
       "      <th>B._row_id</th>\n",
       "      <th>B.id</th>\n",
       "      <th>B.label</th>\n",
       "      <th>T.a</th>\n",
       "      <th>T.b</th>\n",
       "      <th>T.c</th>\n",
       "    </tr>\n",
       "  </thead>\n",
       "  <tbody>\n",
       "    <tr>\n",
       "      <th>0</th>\n",
       "      <td>1</td>\n",
       "      <td>license/Cars0.png</td>\n",
       "      <td>[[[25, 75, 100], [73, 130, 159], [52, 127, 158...</td>\n",
       "      <td>1</td>\n",
       "      <td>1</td>\n",
       "      <td>KLG1CA2555</td>\n",
       "      <td>[KLo1CN2555]</td>\n",
       "      <td>[[[240, 115], [425, 115], [425, 178], [240, 17...</td>\n",
       "      <td>[0.20029704378116528]</td>\n",
       "    </tr>\n",
       "  </tbody>\n",
       "</table><br><br>\n",
       "</div>"
      ],
      "text/plain": [
       "   myimages._row_id      myimages.name  \\\n",
       "0                 1  license/Cars0.png   \n",
       "\n",
       "                                       myimages.data  B._row_id  B.id  \\\n",
       "0  [[[25, 75, 100], [73, 130, 159], [52, 127, 158...          1     1   \n",
       "\n",
       "      B.label           T.a  \\\n",
       "0  KLG1CA2555  [KLo1CN2555]   \n",
       "\n",
       "                                                 T.b                    T.c  \n",
       "0  [[[240, 115], [425, 115], [425, 178], [240, 17...  [0.20029704378116528]  "
      ]
     },
     "execution_count": 8,
     "metadata": {},
     "output_type": "execute_result"
    }
   ],
   "source": [
    "cursor.query(\"\"\"\n",
    "   SELECT * FROM MyImages \n",
    "       JOIN LATERAL OCRExtractor(data) AS T(a,b,c) \n",
    "       JOIN LicensePlateCSV B \n",
    "       ON FuzzDistance(T.a, B.label) > 50;\n",
    "       \"\"\").df()"
   ]
  }
 ],
 "metadata": {
  "kernelspec": {
   "display_name": "Python 3 (ipykernel)",
   "language": "python",
   "name": "python3"
  },
  "language_info": {
   "codemirror_mode": {
    "name": "ipython",
    "version": 3
   },
   "file_extension": ".py",
   "mimetype": "text/x-python",
   "name": "python",
   "nbconvert_exporter": "python",
   "pygments_lexer": "ipython3",
   "version": "3.10.11"
  },
  "varInspector": {
   "cols": {
    "lenName": 16,
    "lenType": 16,
    "lenVar": 40
   },
   "kernels_config": {
    "python": {
     "delete_cmd_postfix": "",
     "delete_cmd_prefix": "del ",
     "library": "var_list.py",
     "varRefreshCmd": "print(var_dic_list())"
    },
    "r": {
     "delete_cmd_postfix": ") ",
     "delete_cmd_prefix": "rm(",
     "library": "var_list.r",
     "varRefreshCmd": "cat(var_dic_list()) "
    }
   },
   "types_to_exclude": [
    "module",
    "function",
    "builtin_function_or_method",
    "instance",
    "_Feature"
   ],
   "window_display": false
  }
 },
 "nbformat": 4,
 "nbformat_minor": 5
}
